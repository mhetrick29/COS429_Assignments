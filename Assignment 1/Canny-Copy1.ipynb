{
 "cells": [
  {
   "cell_type": "markdown",
   "metadata": {},
   "source": [
    "# 4 : Canny Edge Detector "
   ]
  },
  {
   "cell_type": "code",
   "execution_count": 1,
   "metadata": {},
   "outputs": [],
   "source": [
    "import math\n",
    "import matplotlib.pyplot as plt\n",
    "import numpy as np\n",
    "import cv2\n",
    "#load image\n",
    "img = cv2.imread(\"/Users/Matt Hetrick/Desktop/COS429/puppy_training.jpg\")"
   ]
  },
  {
   "cell_type": "code",
   "execution_count": null,
   "metadata": {},
   "outputs": [],
   "source": [
    "# make floating point \n",
    "# convert to greyscale \n",
    "img_gray = cv2.cvtColor(img, cv2.COLOR_BGR2GRAY)\n",
    "#img_gray = img_gray[190-100:190+100,380-100:380+100] # 200x200 grid wanted to extract?\n",
    "img_gray = img_gray / 255.0"
   ]
  },
  {
   "cell_type": "code",
   "execution_count": null,
   "metadata": {},
   "outputs": [],
   "source": [
    "[Fx, Fy] = filteredGradient(img_gray, 1)\n",
    "[F, D] = edgeStrengthAndOrientation(Fx, Fy)"
   ]
  },
  {
   "cell_type": "code",
   "execution_count": null,
   "metadata": {},
   "outputs": [],
   "source": [
    "I = suppression(F, D)"
   ]
  },
  {
   "cell_type": "code",
   "execution_count": null,
   "metadata": {},
   "outputs": [],
   "source": [
    "edgeMap = hysteresisThresholding(I, D, .2, .4)"
   ]
  },
  {
   "cell_type": "code",
   "execution_count": null,
   "metadata": {},
   "outputs": [],
   "source": [
    "dimensions = img_gray.shape \n",
    "# height,width, \n",
    "height = img_gray.shape[0]\n",
    "width = img_gray.shape[1]\n",
    "print(\"height:\", height)\n",
    "print(\"width:\", width)"
   ]
  },
  {
   "cell_type": "code",
   "execution_count": null,
   "metadata": {},
   "outputs": [],
   "source": [
    "cv2.imshow('grey 200x200 pixel image', img_gray)\n",
    "cv2.waitKey(0)\n",
    "cv2.destroyAllWindows()"
   ]
  },
  {
   "cell_type": "code",
   "execution_count": null,
   "metadata": {},
   "outputs": [],
   "source": [
    "sigma = 1\n",
    "x = np.linspace(-3*sigma,3*sigma,6*sigma+1)\n",
    "y = np.linspace(-3*sigma,3*sigma,6*sigma+1)\n",
    "kernel_x = (-x/(2*np.pi*sigma**4))*np.exp(-x/(sigma**2))\n",
    "kernel_y = (-y/(2*np.pi*sigma**4))*np.exp(-y/(sigma**2))"
   ]
  },
  {
   "cell_type": "code",
   "execution_count": null,
   "metadata": {},
   "outputs": [],
   "source": [
    "kernel_x = np.expand_dims(kernel_x, axis=1)\n",
    "kernel_y = np.expand_dims(kernel_y, axis=0)\n",
    "\n",
    "Fx = cv2.filter2D(img_gray,-1,kernel_x)\n",
    "Fy = cv2.filter2D(img_gray,-1,kernel_y)"
   ]
  },
  {
   "cell_type": "code",
   "execution_count": null,
   "metadata": {},
   "outputs": [],
   "source": [
    "np.arctan([Fx/Fy])"
   ]
  },
  {
   "cell_type": "markdown",
   "metadata": {},
   "source": [
    "### Final function ---  filteredGradient()"
   ]
  },
  {
   "cell_type": "code",
   "execution_count": 2,
   "metadata": {},
   "outputs": [],
   "source": [
    "def filteredGradient(im, sigma):        \n",
    "    sigma = 1\n",
    "    x = np.linspace(-3*sigma,3*sigma,6*sigma+1)\n",
    "    y = np.linspace(-3*sigma,3*sigma,6*sigma+1)\n",
    "    kernel_x = (-x/(2*np.pi*sigma**4))*np.exp(-x/(sigma**2))\n",
    "    kernel_y = (-y/(2*np.pi*sigma**4))*np.exp(-y/(sigma**2))\n",
    "    \n",
    "    kernel_x = np.expand_dims(kernel_x, axis=1)\n",
    "    kernel_y = np.expand_dims(kernel_y, axis=0)\n",
    "\n",
    "    Fx = cv2.filter2D(im,-1,kernel_x)\n",
    "    Fy = cv2.filter2D(im,-1,kernel_y)\n",
    "\n",
    "    return Fx, Fy"
   ]
  },
  {
   "cell_type": "markdown",
   "metadata": {},
   "source": [
    "### edge strength "
   ]
  },
  {
   "cell_type": "code",
   "execution_count": null,
   "metadata": {},
   "outputs": [],
   "source": [
    "Fx = cv2.filter2D(img_gray,-1,kernel_x)\n",
    "Fy = cv2.filter2D(img_gray,-1,kernel_y)\n",
    "D = np.arctan([Fy/Fx])\n",
    "#outputs a (1, 200, 200) shape so remove the first column\n",
    "D = D[0,:,:]\n",
    "F = np.sqrt(Fy**2 + Fx**2) "
   ]
  },
  {
   "cell_type": "code",
   "execution_count": null,
   "metadata": {},
   "outputs": [],
   "source": [
    "import pandas as pd\n",
    "F_df = pd.DataFrame(F)\n",
    "F_fx = pd.DataFrame(Fx)\n",
    "F_fy = pd.DataFrame(Fy)"
   ]
  },
  {
   "cell_type": "code",
   "execution_count": 3,
   "metadata": {},
   "outputs": [],
   "source": [
    "def edgeStrengthAndOrientation(Fx, Fy):\n",
    "    # Given horizontal and vertical gradients for an image, computes the edge\n",
    "    # strength and orientation images.\n",
    "    #\n",
    "    # Fx: 2D double array with shape (height, width). The horizontal gradients.\n",
    "    # Fy: 2D double array with shape (height, width). The vertical gradients.\n",
    "\n",
    "    # Returns:\n",
    "    # F: 2D double array with shape (height, width). The edge strength\n",
    "    #        image.\n",
    "    # D: 2D double array with shape (height, width). The edge orientation\n",
    "    #        image.\n",
    "\n",
    "    D = np.arctan([Fy/Fx])\n",
    "    #outputs a (1, 200, 200) shape so remove the first column\n",
    "    D = np.squeeze(D, axis = 0)\n",
    "    F = np.sqrt(Fy**2 + Fx**2) \n",
    "    \n",
    "    return F, D"
   ]
  },
  {
   "cell_type": "markdown",
   "metadata": {},
   "source": [
    "### NonMax Supression "
   ]
  },
  {
   "cell_type": "code",
   "execution_count": 4,
   "metadata": {},
   "outputs": [],
   "source": [
    "def suppression(F, D):\n",
    "    \n",
    "    # get principal directions\n",
    "    D_star = D\n",
    "    height = D.shape[0]\n",
    "    width = D.shape[1]\n",
    "    for i in range(height):\n",
    "        for j in range(width):\n",
    "            if (D[i][j] <=((math.pi)/8)):\n",
    "                D_star[i][j] = 0\n",
    "            elif (D[i][j] <=(3*(math.pi)/8)):\n",
    "                D_star[i][j] = (math.pi/4)\n",
    "            elif (D[i][j] <=(5*(math.pi)/8)):\n",
    "                D_star[i][j] = (math.pi/2)\n",
    "            else: \n",
    "                D_star[i][j] = (3*math.pi/4)\n",
    "            \n",
    "    # pad columns with 0s\n",
    "    F_new = np.insert(F, 0, 0, axis=1)\n",
    "    F_new = np.append(F_new, np.zeros((F_new.shape[0],1)), axis=1)\n",
    "    # pad rows with 0s\n",
    "    F_new = np.insert(F_new, 0, 0, axis=0)\n",
    "    F_new = np.append(F_new, np.zeros((1,F_new.shape[1])), axis=0)\n",
    "            \n",
    "    I = np.zeros((height, width))        \n",
    "    def suppress(D_star, F, I):\n",
    "        starheight = D_star.shape[0]\n",
    "        starwidth = D_star.shape[1]\n",
    "        for i in range(starheight):\n",
    "            for j in range(starwidth):\n",
    "                if (D_star[i][j] == 0):\n",
    "                    if (F[i][j] < F[i+1][j]) or (F[i,j] < F[i-1][j]):\n",
    "                        I[i][j] = 0\n",
    "                    else: I[i][j] = F[i][j]\n",
    "                elif (D_star[i,j] == ((math.pi)/4)):\n",
    "                    if (F[i][j] < F[i+1][j+1]) or (F[i][j] < F[i-1][j-1]):\n",
    "                        I[i][j] = 0\n",
    "                    else: I[i][j] = F[i][j]\n",
    "                elif (D_star[i][j] == ((math.pi)/2)):\n",
    "                    if (F[i][j] < F[i][j+1]) or (F[i][j] < F[i][j-1]):\n",
    "                        I[i][j] = 0\n",
    "                    else: I[i][j] = F[i][j]\n",
    "                else:\n",
    "                    if (F[i][j] < F[i-1][j+1]) or (F[i][j] < F[i+1][j-1]):\n",
    "                        I[i][j] = 0\n",
    "                    else: I[i][j] = F[i][j]\n",
    "        return I \n",
    "    \n",
    "    I = suppress(D_star,F_new,I)  \n",
    "        \n",
    "    return I"
   ]
  },
  {
   "cell_type": "code",
   "execution_count": null,
   "metadata": {},
   "outputs": [],
   "source": [
    "D_star = D\n",
    "height = D.shape[0]\n",
    "width = D.shape[1]\n",
    "for i in range(height):\n",
    "    for j in range(width):\n",
    "        if (D[i][j] <=((math.pi)/8)):\n",
    "            D_star[i][j] = 0\n",
    "        elif (D[i][j] <=(3*(math.pi)/8)):\n",
    "            D_star[i][j] = (math.pi/4)\n",
    "        elif (D[i][j] <=(5*(math.pi)/8)):\n",
    "            D_star[i][j] = (math.pi/2)\n",
    "        else: \n",
    "            D_star[i][j] = (3*math.pi/4)"
   ]
  },
  {
   "cell_type": "code",
   "execution_count": null,
   "metadata": {},
   "outputs": [],
   "source": [
    "# pad columns with 0s\n",
    "F_new = np.insert(F, 0, 0, axis=1)\n",
    "F_new = np.append(F_new, np.zeros((F_new.shape[0],1)), axis=1)\n",
    "# pad rows with 0s\n",
    "F_new = np.insert(F_new, 0, 0, axis=0)\n",
    "F_new = np.append(F_new, np.zeros((1,F_new.shape[1])), axis=0)"
   ]
  },
  {
   "cell_type": "code",
   "execution_count": null,
   "metadata": {},
   "outputs": [],
   "source": [
    "#maybe make this a function because we have to use logic again in thresholding\n",
    "def suppress(D_star, F, img_gray):\n",
    "    starheight = D_star.shape[0]\n",
    "    starwidth = D_star.shape[1]\n",
    "    I = np.empty((starheight, starwidth))\n",
    "    for i in range(starheight):\n",
    "        for j in range(starwidth):\n",
    "            if (D_star[i][j] == 0):\n",
    "                if (F[i][j] < F[i+1][j]) or (F[i,j] < F[i-1][j]):\n",
    "                    I[i][j] = 0\n",
    "                else: I[i][j] = F[i][j]\n",
    "            elif (D_star[i,j] == ((math.pi)/4)):\n",
    "                if (F[i][j] < F[i+1][j+1]) or (F[i][j] < F[i-1][j-1]):\n",
    "                    I[i][j] = 0\n",
    "                else: I[i][j] = F[i][j]\n",
    "            elif (D_star[i][j] == ((math.pi)/2)):\n",
    "                if (F[i][j] < F[i][j+1]) or (F[i][j] < F[i][j-1]):\n",
    "                    I[i][j] = 0\n",
    "                else: I[i][j] = F[i][j]\n",
    "            else:\n",
    "                if (F[i][j] < F[i-1][j+1]) or (F[i][j] < F[i+1][j-1]):\n",
    "                    I[i][j] = 0\n",
    "                else: I[i][j] = F[i][j]\n",
    "                \n",
    "    return I \n",
    "img_g = suppress(D_star,F_new,img_gray)    "
   ]
  },
  {
   "cell_type": "code",
   "execution_count": null,
   "metadata": {},
   "outputs": [],
   "source": [
    "cv2.imshow('grey 200x200 pixel image', img_g)\n",
    "cv2.waitKey(0)\n",
    "cv2.destroyAllWindows()"
   ]
  },
  {
   "cell_type": "code",
   "execution_count": null,
   "metadata": {},
   "outputs": [],
   "source": []
  },
  {
   "cell_type": "markdown",
   "metadata": {},
   "source": [
    "## Hysteresis Thresholding"
   ]
  },
  {
   "cell_type": "code",
   "execution_count": 5,
   "metadata": {},
   "outputs": [],
   "source": [
    "def hysteresisThresholding(I, D, tL, tH):\n",
    "    \n",
    "    height = I.shape[0]\n",
    "    width = I.shape[1]\n",
    "    # need to normalize heights\n",
    "    def normalize(I):\n",
    "        mini = I.min()\n",
    "        maxi = I.max()\n",
    "        I_n = (I - mini) / (maxi - mini)\n",
    "        return I_n\n",
    "    I_norm = normalize(I) \n",
    "    \n",
    "    pixList = []  \n",
    "    # we could do a bfs here and trace out the edges as we search\n",
    "    for i in range(height):\n",
    "        for j in range(width):\n",
    "            if (I_norm[i][j] > tH): \n",
    "                pixList.append([i,j])\n",
    "                        \n",
    "    # recalculate rounded directions            \n",
    "    D_star = D\n",
    "    height = D.shape[0]\n",
    "    width = D.shape[1]\n",
    "    for i in range(height):\n",
    "        for j in range(width):\n",
    "            if (D[i][j] <=((math.pi)/8)):\n",
    "                D_star[i][j] = 0\n",
    "            elif (D[i][j] <=(3*(math.pi)/8)):\n",
    "                D_star[i][j] = (math.pi/4)\n",
    "            elif (D[i][j] <=(5*(math.pi)/8)):\n",
    "                D_star[i][j] = (math.pi/2)\n",
    "            else: \n",
    "                D_star[i][j] = (3*math.pi/4)\n",
    "                        \n",
    "                        \n",
    "    I_new = np.insert(I_norm, 0, 0, axis=1)\n",
    "    I_new = np.append(I_new, np.zeros((I_new.shape[0],1)), axis=1)\n",
    "    # pad rows with 0s\n",
    "    I_new = np.insert(I_new, 0, 0, axis=0)\n",
    "    I_new = np.append(I_new, np.zeros((1,I_new.shape[1])), axis=0)   \n",
    "    \n",
    "    newList = []                    \n",
    "    for pixel in pixList:\n",
    "        i = pixel[0]\n",
    "        j = pixel[1]\n",
    "        if (D_star[i][j] == 0):\n",
    "            if (tL < I_new[i+1][j]): \n",
    "                newList.append([i+1,j])\n",
    "            if (tL < I_new[i-1][j]):\n",
    "                newList.append([i-1,j])\n",
    "        elif (D_star[i,j] == ((math.pi)/4)):\n",
    "            if (tL < I_new[i+1][j+1]): \n",
    "                newList.append([i+1, j+1])                       \n",
    "            if (tL < I_new[i-1][j-1]):\n",
    "                newList.append([i-1,j-1])\n",
    "        elif (D_star[i][j] == ((math.pi)/2)):\n",
    "            if (tL < I_new[i][j+1]):\n",
    "                newList.append([i, j+1])\n",
    "            if (tL < I_new[i][j-1]):\n",
    "                newList.append([i, j-1])\n",
    "        elif (D_star[i][j] == ((3*(math.pi))/4)):\n",
    "            if (tL < I_new[i-1][j+1]):\n",
    "                newList.append([i-1, j+1])\n",
    "            if (tL < I_new[i+1][j-1]):\n",
    "                newList.append([i+1, j-1])\n",
    "    \n",
    "    edgeMap = np.zeros((height, width))\n",
    "    for i in range(height):\n",
    "        for j in range(width):            \n",
    "            if ([i,j] in newList):\n",
    "                edgeMap[i][j] = 1\n",
    "                \n",
    "    return edgeMap"
   ]
  },
  {
   "cell_type": "code",
   "execution_count": null,
   "metadata": {},
   "outputs": [],
   "source": [
    "height = img_g.shape[0]\n",
    "width = img_g.shape[1]\n",
    "# need to normalize heights\n",
    "def normalize(I):\n",
    "    height = I.shape[0]\n",
    "    width = I.shape[1]\n",
    "    mini = I.min()\n",
    "    maxi = I.max()\n",
    "    I_n = (I - mini) / (maxi - mini)\n",
    "    return I_n\n",
    "I_norm = normalize(img_g)    "
   ]
  },
  {
   "cell_type": "code",
   "execution_count": null,
   "metadata": {},
   "outputs": [],
   "source": [
    "I_norm.max()"
   ]
  },
  {
   "cell_type": "code",
   "execution_count": null,
   "metadata": {},
   "outputs": [],
   "source": [
    "pixList = []  \n",
    "tH = 1.5*I_norm.mean()\n",
    "tL = 1.25*I_norm.mean()\n",
    "# we could do a bfs here and trace out the edges as we search\n",
    "for i in range(height):\n",
    "    for j in range(width):\n",
    "        if (I_norm[i][j] > tH): \n",
    "            pixList.append([i,j])"
   ]
  },
  {
   "cell_type": "code",
   "execution_count": null,
   "metadata": {},
   "outputs": [],
   "source": [
    "I_new = np.insert(I_norm, 0, 0, axis=1)\n",
    "I_new = np.append(I_new, np.zeros((I_new.shape[0],1)), axis=1)\n",
    "# pad rows with 0s\n",
    "I_new = np.insert(I_new, 0, 0, axis=0)\n",
    "I_new = np.append(I_new, np.zeros((1,I_new.shape[1])), axis=0)  "
   ]
  },
  {
   "cell_type": "code",
   "execution_count": null,
   "metadata": {},
   "outputs": [],
   "source": [
    "newList = []                    \n",
    "for pixel in pixList:\n",
    "    i = pixel[0]\n",
    "    j = pixel[1]\n",
    "    if (D_star[i][j] == 0):\n",
    "        if (tL < I_new[i+1][j]): \n",
    "            newList.append([i+1,j])\n",
    "        if (tL < I_new[i-1][j]):\n",
    "            newList.append([i-1,j])\n",
    "    elif (D_star[i,j] == ((math.pi)/4)):\n",
    "        if (tL < I_new[i+1][j+1]): \n",
    "            newList.append([i+1, j+1])                       \n",
    "        if (tL < I_new[i-1][j-1]):\n",
    "            newList.append([i-1,j-1])\n",
    "    elif (D_star[i][j] == ((math.pi)/2)):\n",
    "        if (tL < I_new[i][j+1]):\n",
    "            newList.append([i, j+1])\n",
    "        if (tL < I_new[i][j-1]):\n",
    "            newList.append([i, j-1])\n",
    "    elif (D_star[i][j] == ((3*(math.pi))/4)):\n",
    "        if (tL < I_new[i-1][j+1]):\n",
    "            newList.append([i-1, j+1])\n",
    "        if (tL < I_new[i+1][j-1]):\n",
    "            newList.append([i+1, j-1])"
   ]
  },
  {
   "cell_type": "code",
   "execution_count": null,
   "metadata": {},
   "outputs": [],
   "source": [
    "for i in range(height):\n",
    "    for j in range(width):            \n",
    "        if ([i,j] in newList):\n",
    "            img_gray[i][j] = 1\n",
    "        else:\n",
    "            img_gray[i][j] = 0"
   ]
  },
  {
   "cell_type": "code",
   "execution_count": null,
   "metadata": {},
   "outputs": [],
   "source": [
    "cv2.imshow('grey 200x200 pixel image', img_gray)\n",
    "cv2.waitKey(0)\n",
    "cv2.destroyAllWindows()"
   ]
  },
  {
   "cell_type": "code",
   "execution_count": 6,
   "metadata": {},
   "outputs": [],
   "source": [
    "def cannyEdgeDetection(im, sigma, tL, tH):\n",
    "    # im: 2D double array with shape (height, width). The input image.\n",
    "    # sigma: double. The standard deviation of the gaussian blur kernel.\n",
    "    # tL: double. The low threshold for detection.\n",
    "    # tH: double. The high threshold for detection.\n",
    "\n",
    "    # Returns:\n",
    "    # edgeMap: 2D binary image of shape (height, width). Output edge map, where edges are 1 and other pixels are 0.\n",
    "    \n",
    "    #make floating point and convert to grayscale\n",
    "    img_gray = cv2.cvtColor(im, cv2.COLOR_BGR2GRAY)\n",
    "    img_gray = img_gray / 255.0\n",
    "    \n",
    "    [Fx, Fy] = filteredGradient(img_gray, sigma)\n",
    "    [F, D] = edgeStrengthAndOrientation(Fx, Fy)\n",
    "    I = suppression(F, D)\n",
    "    edgeMap = hysteresisThresholding(I, D, tL, tH)\n",
    "  \n",
    "    return edgeMap"
   ]
  },
  {
   "cell_type": "code",
   "execution_count": 8,
   "metadata": {},
   "outputs": [],
   "source": [
    "r = cannyEdgeDetection(img, 1, .2, .4)"
   ]
  },
  {
   "cell_type": "code",
   "execution_count": 9,
   "metadata": {},
   "outputs": [],
   "source": [
    "cv2.imshow('dog', r)\n",
    "cv2.waitKey(0)\n",
    "cv2.destroyAllWindows()"
   ]
  },
  {
   "cell_type": "code",
   "execution_count": 12,
   "metadata": {},
   "outputs": [],
   "source": [
    "img_gray = cv2.cvtColor(img, cv2.COLOR_BGR2GRAY)\n",
    "img_gray = img_gray / 255.0\n",
    "[Fx, Fy] = filteredGradient(img_gray, 1)\n",
    "[F, D] = edgeStrengthAndOrientation(Fx, Fy)\n",
    "I = suppression(F, D)"
   ]
  },
  {
   "cell_type": "code",
   "execution_count": 14,
   "metadata": {},
   "outputs": [],
   "source": [
    "def normalize(I):\n",
    "    height = I.shape[0]\n",
    "    width = I.shape[1]\n",
    "    mini = I.min()\n",
    "    maxi = I.max()\n",
    "    I_n = (I - mini) / (maxi - mini)\n",
    "    return I_n\n",
    "I_norm = normalize(I) "
   ]
  },
  {
   "cell_type": "code",
   "execution_count": 15,
   "metadata": {},
   "outputs": [
    {
     "data": {
      "text/plain": [
       "array([[0.        , 0.        , 0.        , ..., 0.        , 0.        ,\n",
       "        0.        ],\n",
       "       [0.        , 0.        , 0.        , ..., 0.27205805, 0.26759845,\n",
       "        0.26413455],\n",
       "       [0.        , 0.        , 0.43805973, ..., 0.        , 0.        ,\n",
       "        0.        ],\n",
       "       ...,\n",
       "       [0.        , 0.59473932, 0.        , ..., 0.6760013 , 0.80577922,\n",
       "        0.        ],\n",
       "       [0.        , 0.        , 0.        , ..., 0.6993772 , 0.        ,\n",
       "        0.        ],\n",
       "       [0.        , 0.        , 0.        , ..., 0.        , 0.        ,\n",
       "        0.        ]])"
      ]
     },
     "execution_count": 15,
     "metadata": {},
     "output_type": "execute_result"
    }
   ],
   "source": [
    "1.25*(I_norm.mean())"
   ]
  },
  {
   "cell_type": "code",
   "execution_count": null,
   "metadata": {},
   "outputs": [],
   "source": []
  }
 ],
 "metadata": {
  "kernelspec": {
   "display_name": "Python 3",
   "language": "python",
   "name": "python3"
  },
  "language_info": {
   "codemirror_mode": {
    "name": "ipython",
    "version": 3
   },
   "file_extension": ".py",
   "mimetype": "text/x-python",
   "name": "python",
   "nbconvert_exporter": "python",
   "pygments_lexer": "ipython3",
   "version": "3.7.4"
  }
 },
 "nbformat": 4,
 "nbformat_minor": 2
}
